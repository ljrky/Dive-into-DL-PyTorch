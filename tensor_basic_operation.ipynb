{
 "cells": [
  {
   "cell_type": "markdown",
   "metadata": {},
   "source": [
    "# 数据操作"
   ]
  },
  {
   "cell_type": "code",
   "execution_count": 2,
   "metadata": {},
   "outputs": [
    {
     "name": "stdout",
     "output_type": "stream",
     "text": [
      "tensor([[3.2483e+33, 1.9690e-19, 6.8589e+22],\n",
      "        [1.3340e+31, 1.1708e-19, 7.2128e+22],\n",
      "        [9.2216e+29, 7.5546e+31, 1.6932e+22],\n",
      "        [3.0728e+32, 2.9514e+29, 2.8940e+12],\n",
      "        [7.5338e+28, 1.8037e+28, 3.4740e-12]])\n"
     ]
    }
   ],
   "source": [
    "import torch\n",
    "\n",
    "x = torch.empty(5,3)\n",
    "print(x)"
   ]
  },
  {
   "cell_type": "code",
   "execution_count": 4,
   "metadata": {},
   "outputs": [
    {
     "name": "stdout",
     "output_type": "stream",
     "text": [
      "tensor([[0.7210, 0.6698, 0.0956],\n",
      "        [0.9519, 0.5586, 0.4831],\n",
      "        [0.3538, 0.7904, 0.8360],\n",
      "        [0.8041, 0.4748, 0.0792],\n",
      "        [0.7639, 0.2466, 0.8537]])\n"
     ]
    }
   ],
   "source": [
    "x = torch.rand(5,3)\n",
    "print(x)"
   ]
  },
  {
   "cell_type": "code",
   "execution_count": 5,
   "metadata": {},
   "outputs": [
    {
     "name": "stdout",
     "output_type": "stream",
     "text": [
      "tensor([[0, 0, 0],\n",
      "        [0, 0, 0],\n",
      "        [0, 0, 0],\n",
      "        [0, 0, 0],\n",
      "        [0, 0, 0]])\n"
     ]
    }
   ],
   "source": [
    "x = torch.zeros(5, 3, dtype=torch.long)\n",
    "print(x)"
   ]
  },
  {
   "cell_type": "code",
   "execution_count": 9,
   "metadata": {},
   "outputs": [
    {
     "name": "stdout",
     "output_type": "stream",
     "text": [
      "tensor([5.5000, 3.0000])\n"
     ]
    }
   ],
   "source": [
    "x = torch.tensor([5.5, 3], dtype=torch.float)\n",
    "print(x)"
   ]
  },
  {
   "cell_type": "code",
   "execution_count": 10,
   "metadata": {},
   "outputs": [
    {
     "name": "stdout",
     "output_type": "stream",
     "text": [
      "torch.Size([2])\n"
     ]
    }
   ],
   "source": [
    "print(x.size())"
   ]
  },
  {
   "cell_type": "code",
   "execution_count": 11,
   "metadata": {},
   "outputs": [
    {
     "name": "stdout",
     "output_type": "stream",
     "text": [
      "torch.Size([5, 3])\n"
     ]
    }
   ],
   "source": [
    "x = torch.zeros(5, 3, dtype=torch.long)\n",
    "print(x.size())"
   ]
  },
  {
   "cell_type": "code",
   "execution_count": 13,
   "metadata": {},
   "outputs": [
    {
     "name": "stdout",
     "output_type": "stream",
     "text": [
      "torch.Size([5, 3])\n"
     ]
    }
   ],
   "source": [
    "print(x.shape)"
   ]
  },
  {
   "cell_type": "markdown",
   "metadata": {},
   "source": [
    "# 算术计算"
   ]
  },
  {
   "cell_type": "code",
   "execution_count": 15,
   "metadata": {},
   "outputs": [
    {
     "name": "stdout",
     "output_type": "stream",
     "text": [
      "tensor([[0.7989, 0.0728, 0.0426],\n",
      "        [0.3514, 0.7241, 0.4024],\n",
      "        [0.0189, 0.1952, 0.6769],\n",
      "        [0.4554, 0.3101, 0.3664],\n",
      "        [0.4188, 0.1138, 0.8180]])\n",
      "tensor([[0.0757, 0.1290, 0.2807],\n",
      "        [0.7650, 0.6708, 0.4999],\n",
      "        [0.9181, 0.4483, 0.4582],\n",
      "        [0.7988, 0.8737, 0.5015],\n",
      "        [0.7780, 0.6916, 0.9295]])\n",
      "tensor([[0.8746, 0.2017, 0.3233],\n",
      "        [1.1164, 1.3949, 0.9023],\n",
      "        [0.9369, 0.6435, 1.1350],\n",
      "        [1.2542, 1.1838, 0.8679],\n",
      "        [1.1968, 0.8054, 1.7476]])\n"
     ]
    }
   ],
   "source": [
    "y=torch.rand(5,3)\n",
    "x=torch.rand(5,3)\n",
    "print(x)\n",
    "print(y)\n",
    "print(x+y)"
   ]
  },
  {
   "cell_type": "code",
   "execution_count": 16,
   "metadata": {},
   "outputs": [
    {
     "name": "stdout",
     "output_type": "stream",
     "text": [
      "tensor([0.7989, 0.0728, 0.0426])\n"
     ]
    }
   ],
   "source": [
    "y = x[0, :]\n",
    "print(y)"
   ]
  },
  {
   "cell_type": "code",
   "execution_count": 19,
   "metadata": {},
   "outputs": [
    {
     "name": "stdout",
     "output_type": "stream",
     "text": [
      "tensor([3.7989, 3.0728, 3.0426])\n",
      "tensor([[0.7989, 0.0728, 0.0426],\n",
      "        [0.3514, 0.7241, 0.4024],\n",
      "        [0.0189, 0.1952, 0.6769],\n",
      "        [0.4554, 0.3101, 0.3664],\n",
      "        [0.4188, 0.1138, 0.8180]])\n"
     ]
    }
   ],
   "source": [
    "y += 1\n",
    "print(y)\n",
    "print(x)"
   ]
  },
  {
   "cell_type": "code",
   "execution_count": 20,
   "metadata": {},
   "outputs": [
    {
     "name": "stdout",
     "output_type": "stream",
     "text": [
      "torch.Size([3])\n",
      "torch.Size([5, 3])\n"
     ]
    }
   ],
   "source": [
    "print(y.size())\n",
    "print(x.size())"
   ]
  },
  {
   "cell_type": "code",
   "execution_count": 21,
   "metadata": {},
   "outputs": [
    {
     "name": "stdout",
     "output_type": "stream",
     "text": [
      "tensor([0.7989, 0.0728, 0.0426, 0.3514, 0.7241, 0.4024, 0.0189, 0.1952, 0.6769,\n",
      "        0.4554, 0.3101, 0.3664, 0.4188, 0.1138, 0.8180])\n",
      "torch.Size([15])\n"
     ]
    }
   ],
   "source": [
    "y = x.view(15)\n",
    "print(y)\n",
    "print(y.size())"
   ]
  },
  {
   "cell_type": "code",
   "execution_count": 24,
   "metadata": {},
   "outputs": [
    {
     "name": "stdout",
     "output_type": "stream",
     "text": [
      "tensor([[0.7989, 0.0728, 0.0426],\n",
      "        [0.3514, 0.7241, 0.4024],\n",
      "        [0.0189, 0.1952, 0.6769],\n",
      "        [0.4554, 0.3101, 0.3664],\n",
      "        [0.4188, 0.1138, 0.8180]])\n",
      "torch.Size([5, 3])\n"
     ]
    }
   ],
   "source": [
    "z=x.view(-1,3)\n",
    "print(z)\n",
    "print(z.size())"
   ]
  },
  {
   "cell_type": "code",
   "execution_count": 25,
   "metadata": {},
   "outputs": [
    {
     "name": "stdout",
     "output_type": "stream",
     "text": [
      "tensor([[1.7989, 1.0728, 1.0426],\n",
      "        [1.3514, 1.7241, 1.4024],\n",
      "        [1.0189, 1.1952, 1.6769],\n",
      "        [1.4554, 1.3101, 1.3664],\n",
      "        [1.4188, 1.1138, 1.8180]])\n",
      "tensor([[0.7989, 0.0728, 0.0426],\n",
      "        [0.3514, 0.7241, 0.4024],\n",
      "        [0.0189, 0.1952, 0.6769],\n",
      "        [0.4554, 0.3101, 0.3664],\n",
      "        [0.4188, 0.1138, 0.8180]])\n"
     ]
    }
   ],
   "source": [
    "z = z + 1\n",
    "print(z)\n",
    "print(x)"
   ]
  },
  {
   "cell_type": "code",
   "execution_count": 26,
   "metadata": {},
   "outputs": [
    {
     "name": "stdout",
     "output_type": "stream",
     "text": [
      "tensor([[1.7989, 1.3514, 1.0189, 1.4554, 1.4188],\n",
      "        [1.0728, 1.7241, 1.1952, 1.3101, 1.1138],\n",
      "        [1.0426, 1.4024, 1.6769, 1.3664, 1.8180]])\n"
     ]
    }
   ],
   "source": [
    "print(z.t())"
   ]
  },
  {
   "cell_type": "markdown",
   "metadata": {},
   "source": [
    "# 矩阵运算中的广播效应"
   ]
  },
  {
   "cell_type": "code",
   "execution_count": 27,
   "metadata": {},
   "outputs": [
    {
     "name": "stdout",
     "output_type": "stream",
     "text": [
      "tensor([[1, 2]])\n",
      "tensor([[1],\n",
      "        [2],\n",
      "        [3]])\n",
      "tensor([[2, 3],\n",
      "        [3, 4],\n",
      "        [4, 5]])\n"
     ]
    }
   ],
   "source": [
    "x = torch.arange(1,3).view(1,2)\n",
    "print(x)\n",
    "y = torch.arange(1,4).view(3,1)\n",
    "print(y)\n",
    "print(x+y)"
   ]
  },
  {
   "cell_type": "markdown",
   "metadata": {},
   "source": [
    "# GPU测试"
   ]
  },
  {
   "cell_type": "code",
   "execution_count": 28,
   "metadata": {},
   "outputs": [
    {
     "name": "stdout",
     "output_type": "stream",
     "text": [
      "tensor([[2, 3]], device='cuda:0')\n",
      "tensor([[2., 3.]], dtype=torch.float64)\n"
     ]
    }
   ],
   "source": [
    "# 以下代码只有在PyTorch GPU版本上才会执行\n",
    "if torch.cuda.is_available():\n",
    "    device = torch.device(\"cuda\")          # GPU\n",
    "    y = torch.ones_like(x, device=device)  # 直接创建一个在GPU上的Tensor\n",
    "    x = x.to(device)                       # 等价于 .to(\"cuda\")\n",
    "    z = x + y\n",
    "    print(z)\n",
    "    print(z.to(\"cpu\", torch.double))       # to()还可以同时更改数据类型"
   ]
  },
  {
   "cell_type": "code",
   "execution_count": null,
   "metadata": {},
   "outputs": [],
   "source": []
  }
 ],
 "metadata": {
  "kernelspec": {
   "display_name": "Python 3",
   "language": "python",
   "name": "python3"
  },
  "language_info": {
   "codemirror_mode": {
    "name": "ipython",
    "version": 3
   },
   "file_extension": ".py",
   "mimetype": "text/x-python",
   "name": "python",
   "nbconvert_exporter": "python",
   "pygments_lexer": "ipython3",
   "version": "3.8.5"
  }
 },
 "nbformat": 4,
 "nbformat_minor": 4
}
